{
 "cells": [
  {
   "cell_type": "code",
   "execution_count": 1,
   "metadata": {
    "collapsed": false
   },
   "outputs": [],
   "source": [
    "import numpy as np\n",
    "from scipy.special import expit\n",
    "from operator import add"
   ]
  },
  {
   "cell_type": "code",
   "execution_count": 10,
   "metadata": {
    "collapsed": false
   },
   "outputs": [],
   "source": [
    "x = np.random.random((8,3))"
   ]
  },
  {
   "cell_type": "code",
   "execution_count": null,
   "metadata": {
    "collapsed": false
   },
   "outputs": [],
   "source": [
    "sigmoid = lambda x: 1.0/(1.0+np.exp(-x))"
   ]
  },
  {
   "cell_type": "code",
   "execution_count": null,
   "metadata": {
    "collapsed": false
   },
   "outputs": [],
   "source": [
    "%timeit y = sigmoid(x)\n"
   ]
  },
  {
   "cell_type": "code",
   "execution_count": null,
   "metadata": {
    "collapsed": false
   },
   "outputs": [],
   "source": [
    "%timeit y = expit(x)"
   ]
  },
  {
   "cell_type": "markdown",
   "metadata": {},
   "source": [
    "## Expit it is!  Now to determine the fastest gradient descent function."
   ]
  },
  {
   "cell_type": "code",
   "execution_count": null,
   "metadata": {
    "collapsed": false
   },
   "outputs": [],
   "source": [
    "x"
   ]
  },
  {
   "cell_type": "code",
   "execution_count": 11,
   "metadata": {
    "collapsed": false
   },
   "outputs": [
    {
     "name": "stdout",
     "output_type": "stream",
     "text": [
      "The slowest run took 39.26 times longer than the fastest. This could mean that an intermediate result is being cached \n",
      "1000000 loops, best of 3: 617 ns per loop\n"
     ]
    }
   ],
   "source": [
    "%timeit x.flatten()"
   ]
  },
  {
   "cell_type": "code",
   "execution_count": 5,
   "metadata": {
    "collapsed": false
   },
   "outputs": [
    {
     "name": "stdout",
     "output_type": "stream",
     "text": [
      "10000 loops, best of 3: 20.4 µs per loop\n"
     ]
    }
   ],
   "source": [
    "\n",
    "error = .235\n",
    "vector = np.asarray([1,2,3,4,5,6,7])\n",
    "weights = np.asarray([1,2,3,4,5,6,7])\n",
    "\n",
    "\n",
    "def loop(error, weights, vector):\n",
    "    l_rate = .1\n",
    "    correction = l_rate * error\n",
    "    for idx, item in enumerate(vector):\n",
    "            weights[idx] += (item * correction)\n",
    "%timeit loop(error, weights, vector)"
   ]
  },
  {
   "cell_type": "code",
   "execution_count": 6,
   "metadata": {
    "collapsed": false
   },
   "outputs": [
    {
     "name": "stdout",
     "output_type": "stream",
     "text": [
      "100000 loops, best of 3: 11.2 µs per loop\n"
     ]
    }
   ],
   "source": [
    "\n",
    "error = .235\n",
    "vector = np.asarray([1,2,3,4,5,6,7])\n",
    "weights = np.asarray([1,2,3,4,5,6,7])\n",
    "\n",
    "\n",
    "def loop(error, weights, vector):\n",
    "    l_rate = .1\n",
    "    correction = l_rate * error\n",
    "    y = [x * correction for x in vector]      \n",
    "    z = map(add, weights, y)\n",
    "    \n",
    "%timeit loop(error, weights, vector)\n"
   ]
  },
  {
   "cell_type": "code",
   "execution_count": 13,
   "metadata": {
    "collapsed": false
   },
   "outputs": [
    {
     "name": "stdout",
     "output_type": "stream",
     "text": [
      "The slowest run took 16.37 times longer than the fastest. This could mean that an intermediate result is being cached \n",
      "1000000 loops, best of 3: 1.46 µs per loop\n"
     ]
    }
   ],
   "source": [
    "error = .235\n",
    "vector = np.asarray([1,2,3,4,5,6,7])\n",
    "weights = np.asarray([1,2,3,4,5,6,7])\n",
    "\n",
    "\n",
    "def map_loop(error, weights, vector):\n",
    "    l_rate = .1\n",
    "    error = .235\n",
    "    correction = l_rate * error\n",
    "    corr_matrix = np.multiply(vector, correction)\n",
    "    weights = map(add, weights, corr_matrix)\n",
    "    \n",
    "%timeit map_loop(error, weights, vector)"
   ]
  },
  {
   "cell_type": "markdown",
   "metadata": {},
   "source": [
    "### Maybe there is a way to leave weights as a generator object.\n",
    "### Test by leaving it as a map object and updating again"
   ]
  },
  {
   "cell_type": "code",
   "execution_count": 18,
   "metadata": {
    "collapsed": false
   },
   "outputs": [
    {
     "data": {
      "text/plain": [
       "[1, 16, 81, 256, 625]"
      ]
     },
     "execution_count": 18,
     "metadata": {},
     "output_type": "execute_result"
    }
   ],
   "source": [
    "def square(x):\n",
    "    return x*x\n",
    "\n",
    "a = [1,2,3,4,5]\n",
    "b = map(square, a)\n",
    "c = map(square, b)\n",
    "d = list(c)\n",
    "d\n"
   ]
  }
 ],
 "metadata": {
  "kernelspec": {
   "display_name": "Python 3",
   "language": "python",
   "name": "python3"
  },
  "language_info": {
   "codemirror_mode": {
    "name": "ipython",
    "version": 3
   },
   "file_extension": ".py",
   "mimetype": "text/x-python",
   "name": "python",
   "nbconvert_exporter": "python",
   "pygments_lexer": "ipython3",
   "version": "3.5.0"
  }
 },
 "nbformat": 4,
 "nbformat_minor": 0
}
