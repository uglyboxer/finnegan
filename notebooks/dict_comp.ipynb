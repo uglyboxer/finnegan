{
 "cells": [
  {
   "cell_type": "code",
   "execution_count": 8,
   "metadata": {
    "collapsed": false
   },
   "outputs": [
    {
     "data": {
      "text/plain": [
       "100"
      ]
     },
     "execution_count": 8,
     "metadata": {},
     "output_type": "execute_result"
    }
   ],
   "source": [
    "class Dummy:\n",
    "    def __init__(self):\n",
    "        self.y = 100\n",
    "\n",
    "d = {x :{\"neuron\": Dummy(), \"forward\": [], \"backward\": []} for x in range(10)}\n",
    "d\n",
    "d[3][\"neuron\"].y"
   ]
  },
  {
   "cell_type": "code",
   "execution_count": 10,
   "metadata": {
    "collapsed": false
   },
   "outputs": [
    {
     "data": {
      "text/plain": [
       "{0: {'backward': [], 'forward': [], 'neuron': <__main__.Dummy at 0x104187dd8>},\n",
       " 1: {'backward': [], 'forward': [], 'neuron': <__main__.Dummy at 0x104187d68>},\n",
       " 2: {'backward': [], 'forward': [], 'neuron': <__main__.Dummy at 0x104187e10>},\n",
       " 3: {'backward': [],\n",
       "  'forward': ['layer 2, 3', 'layer 2, 3'],\n",
       "  'neuron': <__main__.Dummy at 0x104187e48>},\n",
       " 4: {'backward': [], 'forward': [], 'neuron': <__main__.Dummy at 0x104187e80>},\n",
       " 5: {'backward': [], 'forward': [], 'neuron': <__main__.Dummy at 0x104187eb8>},\n",
       " 6: {'backward': [], 'forward': [], 'neuron': <__main__.Dummy at 0x104187ef0>},\n",
       " 7: {'backward': [], 'forward': [], 'neuron': <__main__.Dummy at 0x104187f28>},\n",
       " 8: {'backward': [], 'forward': [], 'neuron': <__main__.Dummy at 0x104187f60>},\n",
       " 9: {'backward': [], 'forward': [], 'neuron': <__main__.Dummy at 0x104187f98>}}"
      ]
     },
     "execution_count": 10,
     "metadata": {},
     "output_type": "execute_result"
    }
   ],
   "source": [
    "d[3][\"forward\"].append(\"layer 2, 3\")\n",
    "d"
   ]
  }
 ],
 "metadata": {
  "kernelspec": {
   "display_name": "Python 3",
   "language": "python",
   "name": "python3"
  },
  "language_info": {
   "codemirror_mode": {
    "name": "ipython",
    "version": 3
   },
   "file_extension": ".py",
   "mimetype": "text/x-python",
   "name": "python",
   "nbconvert_exporter": "python",
   "pygments_lexer": "ipython3",
   "version": "3.5.0"
  }
 },
 "nbformat": 4,
 "nbformat_minor": 0
}
