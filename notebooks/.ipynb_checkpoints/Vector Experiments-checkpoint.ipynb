{
 "cells": [
  {
   "cell_type": "markdown",
   "metadata": {},
   "source": [
    "###  - Test appending bias to 2d matrix and then Test Time complexity for flattening and reshaping np.arrays."
   ]
  },
  {
   "cell_type": "code",
   "execution_count": 3,
   "metadata": {
    "collapsed": false
   },
   "outputs": [],
   "source": [
    "import numpy as np"
   ]
  },
  {
   "cell_type": "code",
   "execution_count": 57,
   "metadata": {
    "collapsed": false
   },
   "outputs": [
    {
     "data": {
      "text/plain": [
       "array([[ 0.,  0.,  0.],\n",
       "       [ 0.,  0.,  0.],\n",
       "       [ 0.,  0.,  0.]])"
      ]
     },
     "execution_count": 57,
     "metadata": {},
     "output_type": "execute_result"
    }
   ],
   "source": [
    "z = np.zeros((3,3))\n",
    "z"
   ]
  },
  {
   "cell_type": "code",
   "execution_count": 75,
   "metadata": {
    "collapsed": false
   },
   "outputs": [
    {
     "data": {
      "text/plain": [
       "array([[ 0.,  0.,  0.,  1.,  1.,  1.],\n",
       "       [ 0.,  0.,  0.,  2.,  2.,  2.],\n",
       "       [ 0.,  0.,  0.,  3.,  3.,  3.]])"
      ]
     },
     "execution_count": 75,
     "metadata": {},
     "output_type": "execute_result"
    }
   ],
   "source": [
    "ndone = np.array([[1,1,1], [2,2,2], [3,3,3]])\n",
    "np.concatenate((z, ndone), axis=1)"
   ]
  },
  {
   "cell_type": "code",
   "execution_count": 21,
   "metadata": {
    "collapsed": false
   },
   "outputs": [
    {
     "name": "stdout",
     "output_type": "stream",
     "text": [
      "[ 0.  0.  0.  0.  0.  0.  0.  0.  0.  1.] [[ 0.  0.  0.]\n",
      " [ 0.  0.  0.]\n",
      " [ 0.  0.  0.]]\n"
     ]
    }
   ],
   "source": [
    "y = np.append(z, 1)\n",
    "print(y, z)"
   ]
  },
  {
   "cell_type": "markdown",
   "metadata": {},
   "source": [
    "###  - Also test results of finnegan's backprop against matrix form from Dolhansky."
   ]
  },
  {
   "cell_type": "code",
   "execution_count": 42,
   "metadata": {
    "collapsed": false
   },
   "outputs": [],
   "source": [
    "a = np.array([2, 3, 2])\n",
    "b = np.array([6, 6, 6])"
   ]
  },
  {
   "cell_type": "code",
   "execution_count": 47,
   "metadata": {
    "collapsed": false
   },
   "outputs": [
    {
     "name": "stdout",
     "output_type": "stream",
     "text": [
      "The slowest run took 4.35 times longer than the fastest. This could mean that an intermediate result is being cached \n",
      "100000 loops, best of 3: 3.76 µs per loop\n"
     ]
    }
   ],
   "source": [
    "def test1():\n",
    "    error_matrix = [a[i] * (1 - a[i]) * (b[i] - a[i]) for i, neuron in enumerate(a)]\n",
    "%timeit test1()\n"
   ]
  },
  {
   "cell_type": "code",
   "execution_count": 48,
   "metadata": {
    "collapsed": false
   },
   "outputs": [
    {
     "name": "stdout",
     "output_type": "stream",
     "text": [
      "The slowest run took 9.15 times longer than the fastest. This could mean that an intermediate result is being cached \n",
      "100000 loops, best of 3: 2.19 µs per loop\n"
     ]
    },
    {
     "data": {
      "text/plain": [
       "array([ -8, -18,  -8])"
      ]
     },
     "execution_count": 48,
     "metadata": {},
     "output_type": "execute_result"
    }
   ],
   "source": [
    "def test2():\n",
    "    temp_matrix = np.multiply(a, 1 - a)\n",
    "    error_matrix2 = np.multiply(temp_matrix, b - a)\n",
    "    return error_matrix2\n",
    "%timeit test2()\n",
    "error_matrix2"
   ]
  },
  {
   "cell_type": "code",
   "execution_count": 63,
   "metadata": {
    "collapsed": false
   },
   "outputs": [
    {
     "name": "stdout",
     "output_type": "stream",
     "text": [
      "100000 loops, best of 3: 6.8 µs per loop\n",
      "[124, 528, 228]\n"
     ]
    }
   ],
   "source": [
    "\n",
    "neurons = [[6,7], [6,9], [10,3]]\n",
    "neurons = np.array(neurons)\n",
    "temps = [[1,2,3],[3,4,5]]\n",
    "la_neurons = [np.array(x) for x in temps]\n",
    "la_error_matrix = error_matrix2[0:2]\n",
    "def bptest():\n",
    "    error_matrix3 = []\n",
    "    for i, neuron in enumerate(neurons):\n",
    "        temp_err = 0\n",
    "        for j, la_neuron in enumerate(la_neurons):\n",
    "            temp_err += la_neurons[j][i] * la_error_matrix[j]\n",
    "        error_matrix3.append(a[i] * (1 - a[i]) * temp_err)\n",
    "    return error_matrix3\n",
    "%timeit bptest()\n",
    "error_matrix3 = bptest()\n",
    "print(error_matrix3)"
   ]
  },
  {
   "cell_type": "code",
   "execution_count": 69,
   "metadata": {
    "collapsed": false
   },
   "outputs": [
    {
     "data": {
      "text/plain": [
       "array([[1, 3],\n",
       "       [2, 4],\n",
       "       [3, 5]])"
      ]
     },
     "execution_count": 69,
     "metadata": {},
     "output_type": "execute_result"
    }
   ],
   "source": [
    "lans = np.column_stack(la_neurons)\n",
    "lans"
   ]
  },
  {
   "cell_type": "code",
   "execution_count": 73,
   "metadata": {
    "collapsed": false
   },
   "outputs": [
    {
     "name": "stdout",
     "output_type": "stream",
     "text": [
      "The slowest run took 12.11 times longer than the fastest. This could mean that an intermediate result is being cached \n",
      "100000 loops, best of 3: 2.62 µs per loop\n"
     ]
    }
   ],
   "source": [
    "error_matrix3 = []\n",
    "la_error_matrix = np.array(error_matrix[0:2])\n",
    "def bptest2():\n",
    "    temp = np.dot(lans, la_error_matrix)\n",
    "    error_matrix3 = np.multiply(temp, np.multiply(a, 1 - a))\n",
    "    error_matrix3\n",
    "%timeit bptest2()\n",
    "\n"
   ]
  }
 ],
 "metadata": {
  "kernelspec": {
   "display_name": "Python 3",
   "language": "python",
   "name": "python3"
  },
  "language_info": {
   "codemirror_mode": {
    "name": "ipython",
    "version": 3
   },
   "file_extension": ".py",
   "mimetype": "text/x-python",
   "name": "python",
   "nbconvert_exporter": "python",
   "pygments_lexer": "ipython3",
   "version": "3.5.0"
  }
 },
 "nbformat": 4,
 "nbformat_minor": 0
}
