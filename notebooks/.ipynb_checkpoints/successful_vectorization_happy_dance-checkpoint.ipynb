{
 "cells": [
  {
   "cell_type": "code",
   "execution_count": 1,
   "metadata": {
    "collapsed": true
   },
   "outputs": [],
   "source": [
    "import numpy as np"
   ]
  },
  {
   "cell_type": "code",
   "execution_count": 12,
   "metadata": {
    "collapsed": false
   },
   "outputs": [
    {
     "data": {
      "text/plain": [
       "array([[1, 3],\n",
       "       [2, 4],\n",
       "       [3, 5]])"
      ]
     },
     "execution_count": 12,
     "metadata": {},
     "output_type": "execute_result"
    }
   ],
   "source": [
    "a = np.array([2, 3, 2])\n",
    "\n",
    "nrn_a = np.array([1,2,3])\n",
    "nrn_b = np.array([3,4,5])\n",
    "\n",
    "la_error_vector = np.array([6,7])\n",
    "\n",
    "\n",
    "la_nrns = np.column_stack((nrn_a, nrn_b))\n",
    "la_nrns"
   ]
  },
  {
   "cell_type": "code",
   "execution_count": 7,
   "metadata": {
    "collapsed": false
   },
   "outputs": [
    {
     "data": {
      "text/plain": [
       "array([[6, 5, 2],\n",
       "       [7, 4, 9],\n",
       "       [8, 3, 8],\n",
       "       [9, 2, 3]])"
      ]
     },
     "execution_count": 7,
     "metadata": {},
     "output_type": "execute_result"
    }
   ],
   "source": [
    "cnrn_a = np.array([6,7,8,9])\n",
    "cnrn_b = np.array([5,4,3,2])\n",
    "cnrn_c = np.array([2,9,8,3])\n",
    "\n",
    "cur_nrns = np.column_stack((cnrn_a, cnrn_b, cnrn_c))\n",
    "cur_nrns"
   ]
  },
  {
   "cell_type": "code",
   "execution_count": 24,
   "metadata": {
    "collapsed": false
   },
   "outputs": [
    {
     "name": "stdout",
     "output_type": "stream",
     "text": [
      "100000 loops, best of 3: 10.3 µs per loop\n",
      "[-54, -240, -106]\n"
     ]
    }
   ],
   "source": [
    "xa = cur_nrns.T\n",
    "xb = la_nrns.T\n",
    "def bptest():\n",
    "    error_vector = []\n",
    "    for i, neuron in enumerate(xa):\n",
    "        temp_err = 0\n",
    "        for j, la_neuron in enumerate(xb):\n",
    "            temp_err += la_nrns[i][j] * la_error_vector[j]\n",
    "        error_vector.append(a[i] * (1 - a[i]) * temp_err)\n",
    "    return error_vector\n",
    "%timeit bptest()\n",
    "em = bptest()\n",
    "print(em)"
   ]
  },
  {
   "cell_type": "markdown",
   "metadata": {},
   "source": [
    "### Represent the layer as a matrix of weights.  Each column is a neuron's weight vector."
   ]
  },
  {
   "cell_type": "code",
   "execution_count": 21,
   "metadata": {
    "collapsed": false
   },
   "outputs": [
    {
     "name": "stdout",
     "output_type": "stream",
     "text": [
      "The slowest run took 15.96 times longer than the fastest. This could mean that an intermediate result is being cached \n",
      "100000 loops, best of 3: 2.65 µs per loop\n",
      "[ -54 -240 -106]\n"
     ]
    }
   ],
   "source": [
    "def bptest2():\n",
    "    temp = np.dot(la_nrns, la_error_vector)\n",
    "    error_vector2 = np.multiply(temp, np.multiply(a, 1 - a))\n",
    "    return error_vector2\n",
    "%timeit bptest2()\n",
    "print(bptest2())\n"
   ]
  }
 ],
 "metadata": {
  "kernelspec": {
   "display_name": "Python 3",
   "language": "python",
   "name": "python3"
  },
  "language_info": {
   "codemirror_mode": {
    "name": "ipython",
    "version": 3
   },
   "file_extension": ".py",
   "mimetype": "text/x-python",
   "name": "python",
   "nbconvert_exporter": "python",
   "pygments_lexer": "ipython3",
   "version": "3.5.0"
  }
 },
 "nbformat": 4,
 "nbformat_minor": 0
}
